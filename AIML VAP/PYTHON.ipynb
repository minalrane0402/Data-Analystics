{
 "cells": [
  {
   "cell_type": "code",
   "execution_count": 1,
   "metadata": {},
   "outputs": [
    {
     "name": "stdout",
     "output_type": "stream",
     "text": [
      "Line 1 - value of c is  31\n",
      "Line 2 - value of c is  11\n",
      "Line 3 - value of c is  210\n",
      "Line 4 - value of c is  2.1\n",
      "Line 5 - value of c is  1\n",
      "Line 6 - value of c is  16679880978201\n"
     ]
    }
   ],
   "source": [
    "a = 21\n",
    "b = 10\n",
    "c = 0\n",
    "c=a+b\n",
    "print (\"Line 1 - value of c is \", c)\n",
    "c=a-b\n",
    "print (\"Line 2 - value of c is \", c)\n",
    "c=a*b\n",
    "print (\"Line 3 - value of c is \", c)\n",
    "c=a/b\n",
    "print (\"Line 4 - value of c is \", c)\n",
    "c=a%b\n",
    "print (\"Line 5 - value of c is \", c)\n",
    "c=a**b\n",
    "print (\"Line 6 - value of c is \", c)\n",
    "\n"
   ]
  },
  {
   "cell_type": "code",
   "execution_count": 2,
   "metadata": {
    "scrolled": true
   },
   "outputs": [
    {
     "name": "stdout",
     "output_type": "stream",
     "text": [
      "False\n",
      "True\n",
      "False\n",
      "True\n"
     ]
    }
   ],
   "source": [
    "a = 10\n",
    "b = 20\n",
    "print(a==b)\n",
    "print(a<=b)\n",
    "print(a>=b)\n",
    "print(a!=b)"
   ]
  },
  {
   "cell_type": "code",
   "execution_count": 3,
   "metadata": {},
   "outputs": [
    {
     "name": "stdout",
     "output_type": "stream",
     "text": [
      "30\n"
     ]
    }
   ],
   "source": [
    "c = a + b\n",
    "print (c)"
   ]
  },
  {
   "cell_type": "code",
   "execution_count": 5,
   "metadata": {},
   "outputs": [
    {
     "name": "stdout",
     "output_type": "stream",
     "text": [
      "50\n",
      "30\n"
     ]
    }
   ],
   "source": [
    "a+=b\n",
    "print (a)\n",
    "a-=b\n",
    "print (a)"
   ]
  },
  {
   "cell_type": "code",
   "execution_count": 9,
   "metadata": {},
   "outputs": [
    {
     "name": "stdout",
     "output_type": "stream",
     "text": [
      "a= 60 : 0b111100\n",
      "b= 13 : 0b1101\n",
      "result of AND IS  12 : 0b1100\n",
      "result of OR IS  61 : 0b111101\n",
      "result of EXOR IS  49 : 0b110001\n",
      "result of COMPLEMENT IS  -61 : -0b111101\n",
      "result of LEFT SHIFT IS  240 : 0b11110000\n",
      "result of RIGHT SHIFT IS  15 : 0b1111\n"
     ]
    }
   ],
   "source": [
    "a = 60      # 60 = 0011 1100\n",
    "b = 13      # 13 = 0000 1101\n",
    "print ('a=',a,':',bin(a))\n",
    "print ('b=',b,':',bin(b))\n",
    "c = 0\n",
    "\n",
    "c = a & b;  # 12 = 0000 1100\n",
    "print (\"result of AND IS \", c, ':',bin(c))\n",
    "\n",
    "c = a | b;  # 61 = 0011 1101\n",
    "print (\"result of OR IS \", c, ':',bin(c))\n",
    "\n",
    "c = a ^ b;  # 49 =  0011 1100  \n",
    "print (\"result of EXOR IS \", c, ':',bin(c))\n",
    "\n",
    "c = ~a;     # -61 = - 0011 1101 \n",
    "print (\"result of COMPLEMENT IS \", c, ':',bin(c))\n",
    "\n",
    "c = a << 2; # 240 = 1111 0000\n",
    "print (\"result of LEFT SHIFT IS \", c, ':',bin(c))\n",
    "\n",
    "c = a >> 2; # 15= 0000 1111\n",
    "print (\"result of RIGHT SHIFT IS \", c, ':',bin(c))\n",
    "\n"
   ]
  },
  {
   "cell_type": "code",
   "execution_count": 13,
   "metadata": {},
   "outputs": [
    {
     "name": "stdout",
     "output_type": "stream",
     "text": [
      "The count is: 0\n",
      "The count is: 1\n",
      "The count is: 2\n",
      "The count is: 3\n",
      "The count is: 4\n",
      "The count is: 5\n",
      "The count is: 6\n",
      "The count is: 7\n",
      "The count is: 8\n",
      "Good Bye!\n"
     ]
    }
   ],
   "source": [
    "count = 0\n",
    "while (count < 9):\n",
    "    print ('The count is:',count)\n",
    "    count = count + 1\n",
    "print (\"Good Bye!\")    \n",
    "    \n",
    "    "
   ]
  },
  {
   "cell_type": "code",
   "execution_count": null,
   "metadata": {},
   "outputs": [],
   "source": []
  }
 ],
 "metadata": {
  "kernelspec": {
   "display_name": "Python 3",
   "language": "python",
   "name": "python3"
  },
  "language_info": {
   "codemirror_mode": {
    "name": "ipython",
    "version": 3
   },
   "file_extension": ".py",
   "mimetype": "text/x-python",
   "name": "python",
   "nbconvert_exporter": "python",
   "pygments_lexer": "ipython3",
   "version": "3.7.0"
  }
 },
 "nbformat": 4,
 "nbformat_minor": 2
}
