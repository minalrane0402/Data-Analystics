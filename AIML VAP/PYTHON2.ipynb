{
 "cells": [
  {
   "cell_type": "markdown",
   "metadata": {},
   "source": [
    "\n",
    "# PYTHON FUNCTIONS\n"
   ]
  },
  {
   "cell_type": "code",
   "execution_count": 3,
   "metadata": {},
   "outputs": [
    {
     "name": "stdout",
     "output_type": "stream",
     "text": [
      "30\n",
      "30\n",
      "10\n",
      "10\n"
     ]
    }
   ],
   "source": [
    "a=60\n",
    "b=40\n",
    "def fun1(a,b):\n",
    "    c= a+b\n",
    "    print (c)\n",
    "    return c;\n",
    "res1= fun1(10,20)\n",
    "print (res1)\n",
    "x=7\n",
    "y=3\n",
    "res2= fun1(x,y)\n",
    "print (res2)"
   ]
  },
  {
   "cell_type": "markdown",
   "metadata": {},
   "source": [
    "# CLASS IN PYTHON"
   ]
  },
  {
   "cell_type": "code",
   "execution_count": 9,
   "metadata": {},
   "outputs": [
    {
     "name": "stdout",
     "output_type": "stream",
     "text": [
      "2\n",
      "200\n",
      "2000\n"
     ]
    }
   ],
   "source": [
    "a=2000  #global\n",
    "class pc1:\n",
    "    a = 200  #class or local\n",
    "    n= \"akshay\"\n",
    "    def fun2(self,a,b):\n",
    "        a=2\n",
    "        ca = a+b\n",
    "        return a\n",
    "obj1 = pc1()\n",
    "print(obj1.fun2(20,40))\n",
    "print(obj1.a)\n",
    "print (a)\n"
   ]
  },
  {
   "cell_type": "code",
   "execution_count": 9,
   "metadata": {},
   "outputs": [
    {
     "name": "stdout",
     "output_type": "stream",
     "text": [
      "class C run\n",
      "class C function fun3 run\n",
      "class B run\n",
      "class B function fun2 run\n",
      "class A function fun1 run\n"
     ]
    }
   ],
   "source": [
    " #multiple inheritance\n",
    "\n",
    "class A:\n",
    "    def __init__(self):\n",
    "        print(\"class A run\")\n",
    "    def fun1(self):\n",
    "        print(\"class A function fun1 run\")\n",
    "    \n",
    "\n",
    "class B(A):   #multiple inheritance\n",
    "    def __init__(self):\n",
    "        print(\"class B run\")\n",
    "    def fun2(self):\n",
    "        print(\"class B function fun2 run\")  \n",
    "        \n",
    "class C(A):   #multiple inheritance\n",
    "    def __init__(self):\n",
    "        print(\"class C run\")\n",
    "    def fun3(self):\n",
    "        print(\"class C function fun3 run\")\n",
    "\n",
    "obj3 = C()\n",
    "obj3.fun3()\n",
    "obj3 = B()\n",
    "obj3.fun2()\n",
    "obj3.fun1()                                                                                                                                                                                                                                                                                                                                                                                                                                                                                                                                                                                                                                                                                                                                                                                                                                                                                                                                                                                                                                                                                                                                                                                                                                                                                                                                                                                                                                                                                                                                                                                                                                                                                                                                                                                                                                                                                                                                                                                                                                                                                                                                                                                                                                                                                                                                                                                                                                                                                                                                                                                                                                                                                                                                                                                                                                                                                                                                                                                                                                                                                                 \n"
   ]
  },
  {
   "cell_type": "code",
   "execution_count": 10,
   "metadata": {},
   "outputs": [
    {
     "name": "stdout",
     "output_type": "stream",
     "text": [
      "class C run\n",
      "class C function fun3 run\n",
      "class B function fun2 run\n",
      "class A function fun1 run\n"
     ]
    }
   ],
   "source": [
    "#multilevel inheritance\n",
    "\n",
    "class A:\n",
    "    def __init__(self):\n",
    "        print(\"class A run\")\n",
    "    def fun1(self):\n",
    "        print(\"class A function fun1 run\")\n",
    "    \n",
    "\n",
    "class B(A):   #multilevel inheritance\n",
    "    def __init__(self):\n",
    "        print(\"class B run\")\n",
    "    def fun2(self):\n",
    "        print(\"class B function fun2 run\")  \n",
    "        \n",
    "class C(B):   #multilevel inheritance\n",
    "    def __init__(self):\n",
    "        print(\"class C run\")\n",
    "    def fun3(self):\n",
    "        print(\"class C function fun3 run\")\n",
    "\n",
    "obj3 = C()\n",
    "obj3.fun3()\n",
    "obj3.fun2()\n",
    "obj3.fun1()\n"
   ]
  },
  {
   "cell_type": "markdown",
   "metadata": {},
   "source": [
    "# LIST\n"
   ]
  },
  {
   "cell_type": "code",
   "execution_count": 12,
   "metadata": {
    "scrolled": true
   },
   "outputs": [
    {
     "name": "stdout",
     "output_type": "stream",
     "text": [
      "['physics', 'chemistry', 1997]\n",
      "[1, 2, 3]\n",
      "['a', 'b', 'c']\n"
     ]
    }
   ],
   "source": [
    "list1 = ['physics', 'chemistry', 1997, 2000];\n",
    "list2 = [1, 2, 3, 4, 5];\n",
    "list3 = [\"a\", \"b\", \"c\", \"d\"];\n",
    "\n",
    "print(list1[0:3])\n",
    "print(list2[0:1])\n",
    "print(list3[0:4])"
   ]
  },
  {
   "cell_type": "code",
   "execution_count": 16,
   "metadata": {},
   "outputs": [
    {
     "name": "stdout",
     "output_type": "stream",
     "text": [
      "['physics', 'chemistry', 1997]\n",
      "[3]\n",
      "['c']\n"
     ]
    }
   ],
   "source": [
    "list1 = ['physics', 'chemistry', 1997, 2000];\n",
    "list2 = [1, 2, 3, 4, 5];\n",
    "list3 = [\"a\", \"b\", \"c\", \"d\"];\n",
    "\n",
    "print(list1[0:3])\n",
    "print(list2[2:-2])\n",
    "print(list3[-2:-1])"
   ]
  },
  {
   "cell_type": "code",
   "execution_count": 23,
   "metadata": {},
   "outputs": [
    {
     "name": "stdout",
     "output_type": "stream",
     "text": [
      "['physics', 'chemistry', 1997]\n",
      "[1]\n",
      "['a', 'b', 'c', 'd']\n",
      "First list length :  4\n",
      "Second list length :  5\n",
      "d\n"
     ]
    }
   ],
   "source": [
    "#len(list1)\n",
    "\n",
    "list1 = ['physics', 'chemistry', 1997, 2000];\n",
    "list2 = [1, 2, 3, 4, 5];\n",
    "list3 = [\"a\", \"b\", \"c\", \"d\"];\n",
    "\n",
    "print(list1[0:3])\n",
    "print(list2[0:1])\n",
    "print(list3[0:4])\n",
    "\n",
    "print(\"First list length : \" , len(list1));\n",
    "print (\"Second list length : \" , len(list2));"
   ]
  },
  {
   "cell_type": "code",
   "execution_count": 24,
   "metadata": {},
   "outputs": [
    {
     "name": "stdout",
     "output_type": "stream",
     "text": [
      "['physics', 'chemistry', 1997]\n",
      "[1]\n",
      "['a', 'b', 'c', 'd']\n",
      "First list length :  4\n",
      "Second list length :  5\n",
      "d\n"
     ]
    }
   ],
   "source": [
    "#max(list1)\n",
    "\n",
    "list1 = ['physics', 'chemistry', 1997, 2000];\n",
    "list2 = [1, 2, 3, 4, 5];\n",
    "list3 = [\"a\", \"b\", \"c\", \"d\"];\n",
    "\n",
    "print(list1[0:3])\n",
    "print(list2[0:1])\n",
    "print(list3[0:4])\n",
    "\n",
    "print(\"First list length : \" , len(list1));\n",
    "print (\"Second list length : \" , len(list2));\n",
    "print (max(list3))"
   ]
  },
  {
   "cell_type": "code",
   "execution_count": 30,
   "metadata": {},
   "outputs": [
    {
     "name": "stdout",
     "output_type": "stream",
     "text": [
      "['physics', 'chemistry', 1997]\n",
      "[1, 2, 3, 5]\n"
     ]
    }
   ],
   "source": [
    "#pop() method\n",
    "list1 = ['physics', 'chemistry', 1997, 2000];\n",
    "list2 = [1, 2, 3, 4, 5];\n",
    "list3 = [\"a\", \"b\", \"c\", \"d\"];\n",
    "\n",
    "\n",
    "list1.pop()\n",
    "list2.pop(3)\n",
    "print(list1)\n",
    "print(list2)"
   ]
  },
  {
   "cell_type": "code",
   "execution_count": 33,
   "metadata": {},
   "outputs": [
    {
     "name": "stdout",
     "output_type": "stream",
     "text": [
      "dict['Name']:  Zara\n",
      "dict['Age']:  7\n"
     ]
    }
   ],
   "source": [
    "#dictionary\n",
    "\n",
    "dict = {'Name':'Zara', 'Age':'7', 'Class':'First'};\n",
    "\n",
    "print (\"dict['Name']: \", dict['Name']);\n",
    "print (\"dict['Age']: \", dict['Age']);\n"
   ]
  },
  {
   "cell_type": "code",
   "execution_count": null,
   "metadata": {},
   "outputs": [],
   "source": []
  }
 ],
 "metadata": {
  "kernelspec": {
   "display_name": "Python 3",
   "language": "python",
   "name": "python3"
  },
  "language_info": {
   "codemirror_mode": {
    "name": "ipython",
    "version": 3
   },
   "file_extension": ".py",
   "mimetype": "text/x-python",
   "name": "python",
   "nbconvert_exporter": "python",
   "pygments_lexer": "ipython3",
   "version": "3.7.0"
  }
 },
 "nbformat": 4,
 "nbformat_minor": 2
}
